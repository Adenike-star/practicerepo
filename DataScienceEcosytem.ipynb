{
 "cells": [
  {
   "cell_type": "markdown",
   "id": "7b8005e8-2e39-40ac-9049-2d0ff30cc9a2",
   "metadata": {},
   "source": [
    "# Data Science Tools and Ecosystem"
   ]
  },
  {
   "cell_type": "markdown",
   "id": "0facb510-3090-41e6-b1c1-df3f8c94ff31",
   "metadata": {},
   "source": [
    "In this notebook, data science tools and ecosystem are summarized"
   ]
  },
  {
   "cell_type": "markdown",
   "id": "8353974c-7517-4bf8-91c8-652f3eb74e28",
   "metadata": {},
   "source": [
    "**Objectives**\n",
    "- List popular languages for data science\n",
    "- List common data science libraries\n",
    "- List data science open source tools\n",
    "- Perform arithmetic expressions"
   ]
  },
  {
   "cell_type": "markdown",
   "id": "ff5adbcf-1a43-4284-9eaa-5ffbd45da3f5",
   "metadata": {},
   "source": [
    "Some of the popular languages that data scientists use are:\n",
    "1. Python\n",
    "2. SQL\n",
    "3. R\n",
    "4. Scala\n",
    "5. Julia"
   ]
  },
  {
   "cell_type": "markdown",
   "id": "0a7b4902-19ca-42b0-8e11-ee98687aa5fe",
   "metadata": {},
   "source": [
    "Some of the commonly used libraries by data scientists include:\n",
    "1. Pandas\n",
    "2. NumPy\n",
    "3. Scikit-Learn\n",
    "4. SciPy\n",
    "5. Tensorflow"
   ]
  },
  {
   "cell_type": "markdown",
   "id": "24fa86aa-3341-4384-bfa4-be23fe0551db",
   "metadata": {},
   "source": [
    "| Data Science Tools |\n",
    "| ------------\n",
    "| Jupyter Notebook\n",
    "| RStudio\n",
    "| GitHub"
   ]
  },
  {
   "cell_type": "markdown",
   "id": "dbc5d5a7-34dd-4bab-8191-8a9a41cb3c43",
   "metadata": {},
   "source": [
    "### Below are a few examples of evaluating arithmetic expressions in python"
   ]
  },
  {
   "cell_type": "code",
   "execution_count": 1,
   "id": "f45f1c7e-dd90-4c07-a7d0-501fb361870b",
   "metadata": {},
   "outputs": [
    {
     "data": {
      "text/plain": [
       "17"
      ]
     },
     "execution_count": 1,
     "metadata": {},
     "output_type": "execute_result"
    }
   ],
   "source": [
    "# This a simple arithmetic expression to mutiply then add integers\n",
    "\n",
    "(3*4)+5"
   ]
  },
  {
   "cell_type": "code",
   "execution_count": 2,
   "id": "96990fa0-6551-40f6-a6d8-8bce9f9e7285",
   "metadata": {},
   "outputs": [
    {
     "name": "stdout",
     "output_type": "stream",
     "text": [
      "3.3333333333333335 hrs\n"
     ]
    }
   ],
   "source": [
    "# This will convert 200 minutes to hours by dividing by 60\n",
    "\n",
    "x = 200/60\n",
    "print(f\"{x} hrs\")"
   ]
  },
  {
   "cell_type": "markdown",
   "id": "73ae2640-b4a7-42e5-9710-c864d512d3d5",
   "metadata": {},
   "source": [
    "## Author\n",
    "**Adenike Akinbade**"
   ]
  },
  {
   "cell_type": "code",
   "execution_count": null,
   "id": "06c7a4bf-e96b-4d0e-af85-5b4c046a246b",
   "metadata": {},
   "outputs": [],
   "source": []
  }
 ],
 "metadata": {
  "kernelspec": {
   "display_name": "Python",
   "language": "python",
   "name": "conda-env-python-py"
  },
  "language_info": {
   "codemirror_mode": {
    "name": "ipython",
    "version": 3
   },
   "file_extension": ".py",
   "mimetype": "text/x-python",
   "name": "python",
   "nbconvert_exporter": "python",
   "pygments_lexer": "ipython3",
   "version": "3.7.12"
  }
 },
 "nbformat": 4,
 "nbformat_minor": 5
}
